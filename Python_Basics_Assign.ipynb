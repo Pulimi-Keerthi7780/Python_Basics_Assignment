{
  "nbformat": 4,
  "nbformat_minor": 0,
  "metadata": {
    "colab": {
      "provenance": []
    },
    "kernelspec": {
      "name": "python3",
      "display_name": "Python 3"
    },
    "language_info": {
      "name": "python"
    }
  },
  "cells": [
    {
      "cell_type": "markdown",
      "source": [
        "# **Theory Questions**"
      ],
      "metadata": {
        "id": "hsN1YkUGr_9x"
      }
    },
    {
      "cell_type": "markdown",
      "source": [
        "1. What is Python, and why is it popular ?\n",
        "- Python is a programming language that is used to communicate and give instructions to the computor .\n",
        "- It is so popular because of it features that include : readability , compatability with different OS , object oriented , simple english like syntax , easy to learn, its large community involvement across the globe and the availability of many libraries"
      ],
      "metadata": {
        "id": "jJgGkat_sgDI"
      }
    },
    {
      "cell_type": "markdown",
      "source": [
        "2. What is an interpreter in Python\n",
        "- Interpreter in python reads and compiles the code line by line.\n",
        "- In other programming languages like C , they use something known as the compiler while compiles the entire code at once.\n",
        "- The work of both Interpreter as well as compiler is to convert the code we have written into a machiene understandable code consisting of 0s and 1s."
      ],
      "metadata": {
        "id": "2m1aEaJksf9K"
      }
    },
    {
      "cell_type": "markdown",
      "source": [
        "3. What are pre-defined keywords in Python ?\n",
        "- Pre-defined keywords in Python are certain words that are already defined to perform a specific task . These keywords will be used when we have to perform that specific task.\n",
        "- For example : print is a keyword and everytime we have to print something we use print()\n",
        "- Some other common keywords include for , in , while , is , range...etc"
      ],
      "metadata": {
        "id": "b0rVUgZTsf2x"
      }
    },
    {
      "cell_type": "markdown",
      "source": [
        "4. Can Keywords be used as variable names ?\n",
        "- No , Keywords can not be used as Variable names.\n",
        "- If Keywords are used as Variable names then no error is thrown but the keyword stops performing its specific task as it will be considered just as a variable and to make it work as normal again the compiler needs to be restarted"
      ],
      "metadata": {
        "id": "AvpmBNkEsfwK"
      }
    },
    {
      "cell_type": "markdown",
      "source": [
        "5. What is mutability in Python ?\n",
        "- Mutability in python refers to the process of being able to modify certain types of data after declaring them .\n",
        "- Some examples of mutable type of data include - lists , dictionaries ..etc"
      ],
      "metadata": {
        "id": "-KW8H_Yysfph"
      }
    },
    {
      "cell_type": "markdown",
      "source": [
        "6. Why are lists mutable, but tuples are immutable?\n",
        "- Lists are mutable because they are designed in such a way that they can be modified after they are declared . These are useful in cases where we need to update data without creating a new list .\n",
        "- Tuples are immutable because they are designed in such a way that they cant be chaged / modified once they are declared . These are useful in cases where the original data shouldn't be modified and kept as it is ."
      ],
      "metadata": {
        "id": "PumkQD2CsfhM"
      }
    },
    {
      "cell_type": "markdown",
      "source": [
        "7. What is the difference between “==” and “is” operators in Python ?\n",
        "- \"==\" : this is used to check if the values stored in variables are equal . The output after using this operator will be True / False . Example :\n",
        "\n",
        "\n",
        "```\n",
        "    a = 5\n",
        "    b = 5\n",
        "    c = 3\n",
        "    print(a==b) #this will print True\n",
        "    print(b==c) #this will print False\n",
        "```\n",
        "\n",
        "\n",
        "- \"is\" : This is used to check if the memory address of two variables is equal. The output after using this operator will be True / False . Example:\n",
        "\n",
        "\n",
        "```\n",
        "  a = 5\n",
        "  b = a\n",
        "  c = 3\n",
        "  print(a is b) #this will print True\n",
        "  print(a is c) #this will print False\n",
        "```\n",
        "\n"
      ],
      "metadata": {
        "id": "_BGOYmeOsfXk"
      }
    },
    {
      "cell_type": "markdown",
      "source": [
        "8 . What are logical operators in Python ?\n",
        "- The logical operators in python include and , or , not .\n",
        "- These are called as the logical operators as they function based on the boolean logic.\n",
        "- The output after performing these logical operators will be True or False\n",
        "- The Logic followed for AND is :\n",
        "   - False and False : False\n",
        "   - False and True : False\n",
        "   - True and False : False\n",
        "   - True and True : True\n",
        "\n",
        "- The Logic followed for OR is :\n",
        "   - False or False : False\n",
        "   - False or True : True\n",
        "   - True or False : True\n",
        "   - True or True : True\n",
        "\n",
        "- The Logic followed for Not is :\n",
        "   - Not True : False\n",
        "   - Not False : True"
      ],
      "metadata": {
        "id": "rdNJ-8AasfPF"
      }
    },
    {
      "cell_type": "markdown",
      "source": [
        "9 . What is type casting in Python ?\n",
        "- Typecasting in python basically means to convert one type of data into another type of data.\n",
        "- Typecasting in python is of 2 types - implicit typecasting and explicit typecasting.\n",
        "- Implicit typecasting is where python itself does the required change of the data type without the programmer explicitly doing it . One example for this is when we try to add an int and a float the resulatant is automatically a float . Also when we define a variable , python understands the type of the data thats being stored in the variable without us actually stating it .\n",
        "- The other type of type castin is Explicit typecasting where the programmer has to explicitly typecast the data using the functions like int() , float() , string() ,....etc that are required for performing further operations."
      ],
      "metadata": {
        "id": "cNqYafgDsfEL"
      }
    },
    {
      "cell_type": "markdown",
      "source": [
        "10 . What is the difference between implicit and explicit type casting?\n",
        "- Implicit typecasting : When python implicitly converts lower data types into higher data types while performing certain operations it is known as implicit typecasting . Also when we declare variables we dont specify the type of variable (like in other programming languages like C) but python by itself undestands it , this also comes under implicit typecasting. Example:\n",
        "\n",
        "\n",
        "```\n",
        " a = 5 #python understands its a int type even tho we dont specify\n",
        " b = 3.4 #python understands its a float type even tho we dont specify\n",
        " c = a + b #c is implicitly converted into a float as the addition of an int and float results in a float.\n",
        "```\n",
        "\n",
        "\n",
        "\n",
        "- Explicit typecasting : In cases where the type casting doesnt happen implicitly and the programmer has to explicitly convert data from one type to other to perform certain operations.\n",
        " - For example if we take user input its by default taken as a string , but if its some number we want and we want to do any arithmetic operations on that number then its imporatant for us to convert the input into an int or a float only then we will be able to perform the operations required\n",
        " - This conversion doesnt happen implicitly but the programmer has to do it explicitly , this is called as the explicit typecasting\n",
        "\n",
        "\n",
        "```\n",
        "  n = int(input(\"Enter a number : \"))  # here we explicitly covert the input string into a int\n",
        "  a = n + 3 #this operation will be possible only if n is int or float and hence in the above step we have explicitly cobverted n into int type\n",
        "```\n",
        "\n"
      ],
      "metadata": {
        "id": "jOYSp1YPse6L"
      }
    },
    {
      "cell_type": "markdown",
      "source": [
        "11. What is the purpose of conditional statements in Python ?\n",
        "- The purpose of conditional statements in python is to impliment certain blocks of codes when a certain condition(s) are satisfied only .\n",
        "- It is like a block of code will be executed only and only if a particular condition(s) is/are satisfied .\n",
        "- For example a condition that add two if the number is even , subtract 3 if the number is odd ...these type of conditions can be implemented by using conditional statements in python.\n",
        "- There are different types of conditional statements that are listed below:\n",
        "   - a simple if-else:\n",
        "     \n",
        "\n",
        "```\n",
        "n = int(input(\"Enter a number : \"))\n",
        "if (n%2 == 0):\n",
        "  n += 2\n",
        "else:\n",
        "  n -=3\n",
        "print(n)\n",
        "```\n",
        "   - if - elif- else (there could be more than one elif depending on the num of conditions we have to check....once a condition is satisfied the rest of the conditions are not checked)\n",
        "\n",
        "\n",
        "```\n",
        "#program to find if a number is positive , negative or zero\n",
        "n = int(input(\"Enter a number : \"))\n",
        "if (n>0):\n",
        "  print(\"n is positive\")\n",
        "elif (n<0):\n",
        "  print(\"n is negative\")\n",
        "else:\n",
        "  print(\"n is equal to zero\")\n",
        "```\n",
        "\n",
        "   - Nested if-else / nested if-elif-else\n",
        "\n",
        "\n",
        "```\n",
        "# Program to find grtest of 3 numbers\n",
        "a = int(input(\"Enter a number\"))\n",
        "b = int(input(\"Enter second number \"))\n",
        "c = int(input(\"Enter third number \"))\n",
        "if a>=b :   \n",
        "  if a>=c:\n",
        "      print(f\"The grtest number is {a}\")\n",
        "  else:\n",
        "      print(f\"The grtest number is {c}\")\n",
        "else:\n",
        "  if b>=c:\n",
        "      print(f\"The grtest number is {b}\")\n",
        "  else:\n",
        "      print(f\"The grtest number is {c}\")\n",
        "```\n",
        "\n",
        "\n",
        "\n",
        "\n"
      ],
      "metadata": {
        "id": "JXe5621AsevM"
      }
    },
    {
      "cell_type": "markdown",
      "source": [
        "12. How does the elif statement work ?\n",
        "- If we have more than one condition to check then we use the elif statement .\n",
        "- We can use more than one elif statement depending on the number of conditions that need to be checked.\n",
        "- Once one condition is satisfied the rest of the conditions are not checked.\n",
        "```\n",
        "n = int(input(\"Enter a number : \"))\n",
        "if (n>0):\n",
        "  print(\"n is positive\")\n",
        "elif (n<0):\n",
        "  print(\"n is negative\")\n",
        "else:\n",
        "  print(\"n is equal to zero\")\n",
        "```"
      ],
      "metadata": {
        "id": "PfdjNMJCsej2"
      }
    },
    {
      "cell_type": "markdown",
      "source": [
        "13. What is the difference between for and while loops ?\n",
        "- For loop is used when the number of iterations are known .\n",
        "- While loop is used when the number of iterations are not known but the condition that should be true for the loop to run is known ."
      ],
      "metadata": {
        "id": "RRMOgx4_seF1"
      }
    },
    {
      "cell_type": "markdown",
      "source": [
        "14. Describe a scenario where a while loop is more suitable than a for loop.\n",
        "- While loop is more suitable than a for loop when we dont know about the number of iterations and we only know about the condition that should be True for the loop to run"
      ],
      "metadata": {
        "id": "gUwkvVPksd4l"
      }
    },
    {
      "cell_type": "markdown",
      "source": [
        "# **Practical Questions**"
      ],
      "metadata": {
        "id": "YaCOFUNFsaf9"
      }
    },
    {
      "cell_type": "code",
      "source": [
        "# 1. Write a Python program to print \"Hello, World!\n",
        "\n",
        "print(\"Hello, World!\")"
      ],
      "metadata": {
        "colab": {
          "base_uri": "https://localhost:8080/"
        },
        "id": "atQn72e1sIMn",
        "outputId": "c0fa3205-ca48-4cc8-abe5-095675a261f4"
      },
      "execution_count": null,
      "outputs": [
        {
          "output_type": "stream",
          "name": "stdout",
          "text": [
            "Hello, World!\n"
          ]
        }
      ]
    },
    {
      "cell_type": "code",
      "source": [
        "# 2. Write a Python program that displays your name and age\n",
        "\n",
        "name = input(\"Please enter your name : \")\n",
        "age = int(input(\"Please enter your age : \"))\n",
        "print(f\"Your name is : {name} \\nYour age is : {age}\")"
      ],
      "metadata": {
        "colab": {
          "base_uri": "https://localhost:8080/"
        },
        "id": "y_ncRIRzsVCS",
        "outputId": "8c72a812-15c2-4c88-e57f-93dd919aae0e"
      },
      "execution_count": null,
      "outputs": [
        {
          "output_type": "stream",
          "name": "stdout",
          "text": [
            "Please enter your name : Keerthi\n",
            "Please enter your age : 20\n",
            "Your name is : Keerthi \n",
            "Your age is : 20\n"
          ]
        }
      ]
    },
    {
      "cell_type": "code",
      "source": [
        "from ast import keyword\n",
        "# 3. Write code to print all the pre-defined keywords in Python using the keyword library\n",
        "\n",
        "help(\"keywords\")"
      ],
      "metadata": {
        "colab": {
          "base_uri": "https://localhost:8080/"
        },
        "id": "eRNQzUjTsU1q",
        "outputId": "5b40dcff-ba23-4815-d851-1f518fdead99"
      },
      "execution_count": null,
      "outputs": [
        {
          "output_type": "stream",
          "name": "stdout",
          "text": [
            "\n",
            "Here is a list of the Python keywords.  Enter any keyword to get more help.\n",
            "\n",
            "False               class               from                or\n",
            "None                continue            global              pass\n",
            "True                def                 if                  raise\n",
            "and                 del                 import              return\n",
            "as                  elif                in                  try\n",
            "assert              else                is                  while\n",
            "async               except              lambda              with\n",
            "await               finally             nonlocal            yield\n",
            "break               for                 not                 \n",
            "\n"
          ]
        }
      ]
    },
    {
      "cell_type": "code",
      "source": [
        "# 4. Write a program that checks if a given word is a Python keyword\n",
        "\n",
        "keywords = [\n",
        "    \"False\", \"class\", \"from\", \"or\",\n",
        "    \"None\", \"continue\", \"global\", \"pass\",\n",
        "    \"True\", \"def\", \"if\", \"raise\",\n",
        "    \"and\", \"del\", \"import\", \"return\",\n",
        "    \"as\", \"elif\", \"in\", \"try\",\n",
        "    \"assert\", \"else\", \"is\", \"while\",\n",
        "    \"async\", \"except\", \"lambda\", \"with\",\n",
        "    \"await\", \"finally\", \"nonlocal\", \"yield\",\n",
        "    \"break\", \"for\", \"not\"\n",
        " ] # this list has been obtained with the help of the help(\"keywords\")\n",
        "word = input(\"Enter a word : \")\n",
        "if word in keywords:\n",
        "  print(\"This word is a python keyword\")\n",
        "else:\n",
        "  print(\"This word is not a python keyword\")"
      ],
      "metadata": {
        "colab": {
          "base_uri": "https://localhost:8080/"
        },
        "id": "CISTkm--sUqo",
        "outputId": "ef08eae6-4f45-40d2-c3f1-07a7ebfd8243"
      },
      "execution_count": null,
      "outputs": [
        {
          "output_type": "stream",
          "name": "stdout",
          "text": [
            "Enter a word : raise\n",
            "This word is a python keyword\n"
          ]
        }
      ]
    },
    {
      "cell_type": "code",
      "source": [
        "# 5. Create a list and tuple in Python, and demonstrate how attempting to change an element works differently for each\n",
        "\n",
        "List = [1 , 2 , 3 , 4 ,5]\n",
        "Tuple = (1, 2, 3, 4, 5)\n",
        "#list is mutable , so we can modify it after declaring\n",
        "List[3]= 7\n",
        "print(List) #this prints the modified List\n",
        "\n",
        "#tuple is immutable , so if we try to modify it after declaring then it will throw an error\n",
        "Tuple[2] = 8 #this will throw an error\n",
        "\n",
        "#one way we can modify tuples without getting an error then we shld first convert it into list , modify it and then convert it back to tuple"
      ],
      "metadata": {
        "colab": {
          "base_uri": "https://localhost:8080/",
          "height": 228
        },
        "id": "8azLPNSvsUbl",
        "outputId": "703baf36-4a75-4e1a-bbcc-5a816d66af76"
      },
      "execution_count": null,
      "outputs": [
        {
          "output_type": "stream",
          "name": "stdout",
          "text": [
            "[1, 2, 3, 7, 5]\n"
          ]
        },
        {
          "output_type": "error",
          "ename": "TypeError",
          "evalue": "'tuple' object does not support item assignment",
          "traceback": [
            "\u001b[0;31m---------------------------------------------------------------------------\u001b[0m",
            "\u001b[0;31mTypeError\u001b[0m                                 Traceback (most recent call last)",
            "\u001b[0;32m<ipython-input-11-bc80ce12f2da>\u001b[0m in \u001b[0;36m<cell line: 10>\u001b[0;34m()\u001b[0m\n\u001b[1;32m      8\u001b[0m \u001b[0;34m\u001b[0m\u001b[0m\n\u001b[1;32m      9\u001b[0m \u001b[0;31m#tuple is immutable , so if we try to modify it after declaring then it will throw an error\u001b[0m\u001b[0;34m\u001b[0m\u001b[0;34m\u001b[0m\u001b[0m\n\u001b[0;32m---> 10\u001b[0;31m \u001b[0mTuple\u001b[0m\u001b[0;34m[\u001b[0m\u001b[0;36m2\u001b[0m\u001b[0;34m]\u001b[0m \u001b[0;34m=\u001b[0m \u001b[0;36m8\u001b[0m \u001b[0;31m#this will throw an error\u001b[0m\u001b[0;34m\u001b[0m\u001b[0;34m\u001b[0m\u001b[0m\n\u001b[0m\u001b[1;32m     11\u001b[0m \u001b[0;34m\u001b[0m\u001b[0m\n\u001b[1;32m     12\u001b[0m \u001b[0;31m#one way we can modify tuples without getting an error then we shld first convert it into list , modify it and then convert it back to tuple\u001b[0m\u001b[0;34m\u001b[0m\u001b[0;34m\u001b[0m\u001b[0m\n",
            "\u001b[0;31mTypeError\u001b[0m: 'tuple' object does not support item assignment"
          ]
        }
      ]
    },
    {
      "cell_type": "code",
      "source": [
        "# 6. Write a function to demonstrate the behavior of mutable and immutable arguments\n",
        "\n",
        "# mutable arguments like lists - once modified inside the function get modified outside the function also after passing thru the function\n",
        "# whereas the immutable arguments like the int retain their values outside the function even after being passed thru a function\n",
        "\n",
        "def mut_imut(mut , imut):\n",
        "  mut.append(7)\n",
        "  imut += 5\n",
        "  print(\"inside the function : \")\n",
        "  print(f\"\\tList : {mut}\")\n",
        "  print(f\"\\tint : {imut}\")\n",
        "\n",
        "a = [1,2,3,4]\n",
        "b = 3\n",
        "mut_imut(a,b)\n",
        "print(\"Outside the function : \")\n",
        "print(f\"\\tList : {a}\")\n",
        "print(f\"\\tint : {b}\")"
      ],
      "metadata": {
        "id": "NXw1KvghsUSY",
        "colab": {
          "base_uri": "https://localhost:8080/"
        },
        "outputId": "f3f05a7a-10ea-4b33-f2d0-8a2d3f3fd9f8"
      },
      "execution_count": 1,
      "outputs": [
        {
          "output_type": "stream",
          "name": "stdout",
          "text": [
            "inside the function : \n",
            "\tList : [1, 2, 3, 4, 7]\n",
            "\tint : 8\n",
            "Outside the function : \n",
            "\tList : [1, 2, 3, 4, 7]\n",
            "\tint : 3\n"
          ]
        }
      ]
    },
    {
      "cell_type": "code",
      "source": [
        "# 7. Write a function to demonstrate the behavior of mutable and immutable arguments\n",
        "#repeated question\n",
        "\n",
        "# mutable arguments like lists - once modified inside the function get modified outside the function also after passing thru the function\n",
        "# whereas the immutable arguments like the int retain their values outside the function even after being passed thru a function\n",
        "\n",
        "def mut_imut(mut , imut):\n",
        "  mut.append(7)\n",
        "  imut += 5\n",
        "  print(\"inside the function : \")\n",
        "  print(f\"\\tList : {mut}\")\n",
        "  print(f\"\\tint : {imut}\")\n",
        "\n",
        "a = [1,2,3,4]\n",
        "b = 3\n",
        "mut_imut(a,b)\n",
        "print(\"Outside the function : \")\n",
        "print(f\"\\tList : {a}\")\n",
        "print(f\"\\tint : {b}\")"
      ],
      "metadata": {
        "id": "hdvuEfDJsUJo",
        "colab": {
          "base_uri": "https://localhost:8080/"
        },
        "outputId": "997cdaa6-3c1b-4b3a-9fce-bd5115e0e740"
      },
      "execution_count": 2,
      "outputs": [
        {
          "output_type": "stream",
          "name": "stdout",
          "text": [
            "inside the function : \n",
            "\tList : [1, 2, 3, 4, 7]\n",
            "\tint : 8\n",
            "Outside the function : \n",
            "\tList : [1, 2, 3, 4, 7]\n",
            "\tint : 3\n"
          ]
        }
      ]
    },
    {
      "cell_type": "code",
      "source": [
        "# 8. Write a program to demonstrate the use of logical operators\n",
        "\n",
        "#logical operators include and or not\n",
        "\n",
        "#for and\n",
        "print(\"AND : \")\n",
        "print(f\"False and False : {False and False}\" )\n",
        "print(f\"False and True : {False and True}\" )\n",
        "print(f\"True and False : {True and False}\" )\n",
        "print(f\"True and True : {True and True}\" )\n",
        "\n",
        "print()\n",
        "\n",
        "#for or\n",
        "print(\"OR : \")\n",
        "print(f\"False or False : {False or False}\" )\n",
        "print(f\"False or True : {False or True}\" )\n",
        "print(f\"True or False : {True or False}\" )\n",
        "print(f\"True or True : {True or True}\" )\n",
        "\n",
        "print()\n",
        "\n",
        "#for not\n",
        "print(\"NOT : \")\n",
        "print(f\"Not True is {not True}\")\n",
        "print(f\"Not False is {not False}\")\n"
      ],
      "metadata": {
        "id": "VHmRMO5bsUAX",
        "colab": {
          "base_uri": "https://localhost:8080/"
        },
        "outputId": "120aa29f-4d61-4b97-90c2-2ad7bffc5d15"
      },
      "execution_count": null,
      "outputs": [
        {
          "output_type": "stream",
          "name": "stdout",
          "text": [
            "AND : \n",
            "False and False : False\n",
            "False and True : False\n",
            "True and False : False\n",
            "True and True : True\n",
            "\n",
            "OR : \n",
            "False or False : False\n",
            "False or True : True\n",
            "True or False : True\n",
            "True or True : True\n",
            "\n",
            "NOT : \n",
            "Not True is False\n",
            "Not False is True\n"
          ]
        }
      ]
    },
    {
      "cell_type": "code",
      "source": [
        "# 9. Write a Python program to convert user input from string to integer, float, and boolean types\n",
        "\n",
        "a = int(input(\"Enter any integer : \")) #to convert into int the string should be of integer type and we use int() to covert the input string into int\n",
        "b = float(input(\"Enter any real number : \")) #to convert into int the string should be a real number either a int or float and we use float() to covert the input string into float\n",
        "c = bool(input(\"Enter any integer : \")) #we use int() to covert the input string into boolean type . Zero and empty string are converted False and everything else is converted to True\n",
        "\n",
        "print(f\"Value and Type of a is :{a} and {type(a)}\\nValue and Type of b is : {b} and {type(b)}\\nValue and Type of c is : {c} and {type(c)}\")"
      ],
      "metadata": {
        "id": "bPN4mO3usT2f",
        "colab": {
          "base_uri": "https://localhost:8080/"
        },
        "outputId": "ad14d546-37a8-4637-c2fa-2df4d04b2ebf"
      },
      "execution_count": null,
      "outputs": [
        {
          "output_type": "stream",
          "name": "stdout",
          "text": [
            "Enter any integer : 2\n",
            "Enter any real number : 3.5\n",
            "Enter any integer : hfrsb\n",
            "Value and Type of a is :2 and <class 'int'>\n",
            "Value and Type of b is : 3.5 and <class 'float'>\n",
            "Value and Type of c is : True <class 'bool'>\n"
          ]
        }
      ]
    },
    {
      "cell_type": "code",
      "source": [
        "# 10. Write code to demonstrate type casting with list elements\n",
        "\n",
        "lisst = [1 , \"2\" , 3.14]\n",
        "\n",
        "#converting the elements of list into integer\n",
        "intlist = []\n",
        "for i in lisst :\n",
        "  intlist.append(int(i))\n",
        "\n",
        "#converting the elements of list into float\n",
        "fltlist = []\n",
        "for i in lisst :\n",
        "  fltlist.append(float(i))\n",
        "\n",
        "\n",
        "#converting the elements of list into string\n",
        "strlist = []\n",
        "for i in lisst :\n",
        "  strlist.append(str(i))\n",
        "\n",
        "\n",
        "print(f\"int list = {intlist}\")\n",
        "print(f\"float list = {fltlist}\")\n",
        "print(f\"string list = {strlist}\")"
      ],
      "metadata": {
        "id": "GORg4XUtsTtH",
        "colab": {
          "base_uri": "https://localhost:8080/"
        },
        "outputId": "6b655a41-e82a-4141-ac4c-272b93b27a13"
      },
      "execution_count": null,
      "outputs": [
        {
          "output_type": "stream",
          "name": "stdout",
          "text": [
            "int list = [1, 2, 3]\n",
            "float list = [1.0, 2.0, 3.14]\n",
            "string list = ['1', '2', '3.14']\n"
          ]
        }
      ]
    },
    {
      "cell_type": "code",
      "source": [
        "# 11. Write a program that checks if a number is positive, negative, or zero\n",
        "\n",
        "n = float(input(\"Enter any number : \"))\n",
        "if n >0 :\n",
        "  print(\"The number is a positive number !\")\n",
        "elif n<0:\n",
        "  print(\"The number is a negative number !\")\n",
        "else:\n",
        "  print(\"The number is ZERO (0)\")"
      ],
      "metadata": {
        "id": "0l3alyMZsTil",
        "colab": {
          "base_uri": "https://localhost:8080/"
        },
        "outputId": "c65b88d0-438e-4482-df73-482bedf42775"
      },
      "execution_count": null,
      "outputs": [
        {
          "output_type": "stream",
          "name": "stdout",
          "text": [
            "Enter any number : -4.3\n",
            "The number is a negative number !\n"
          ]
        }
      ]
    },
    {
      "cell_type": "code",
      "source": [
        "# 12. Write a for loop to print numbers from 1 to 100\n",
        "for i in range(1,101):\n",
        "  print(i)"
      ],
      "metadata": {
        "id": "AtR493AusTX6",
        "colab": {
          "base_uri": "https://localhost:8080/"
        },
        "outputId": "9bd7967b-216d-4f34-d8f2-d55561d3c84d"
      },
      "execution_count": null,
      "outputs": [
        {
          "output_type": "stream",
          "name": "stdout",
          "text": [
            "1\n",
            "2\n",
            "3\n",
            "4\n",
            "5\n",
            "6\n",
            "7\n",
            "8\n",
            "9\n",
            "10\n",
            "11\n",
            "12\n",
            "13\n",
            "14\n",
            "15\n",
            "16\n",
            "17\n",
            "18\n",
            "19\n",
            "20\n",
            "21\n",
            "22\n",
            "23\n",
            "24\n",
            "25\n",
            "26\n",
            "27\n",
            "28\n",
            "29\n",
            "30\n",
            "31\n",
            "32\n",
            "33\n",
            "34\n",
            "35\n",
            "36\n",
            "37\n",
            "38\n",
            "39\n",
            "40\n",
            "41\n",
            "42\n",
            "43\n",
            "44\n",
            "45\n",
            "46\n",
            "47\n",
            "48\n",
            "49\n",
            "50\n",
            "51\n",
            "52\n",
            "53\n",
            "54\n",
            "55\n",
            "56\n",
            "57\n",
            "58\n",
            "59\n",
            "60\n",
            "61\n",
            "62\n",
            "63\n",
            "64\n",
            "65\n",
            "66\n",
            "67\n",
            "68\n",
            "69\n",
            "70\n",
            "71\n",
            "72\n",
            "73\n",
            "74\n",
            "75\n",
            "76\n",
            "77\n",
            "78\n",
            "79\n",
            "80\n",
            "81\n",
            "82\n",
            "83\n",
            "84\n",
            "85\n",
            "86\n",
            "87\n",
            "88\n",
            "89\n",
            "90\n",
            "91\n",
            "92\n",
            "93\n",
            "94\n",
            "95\n",
            "96\n",
            "97\n",
            "98\n",
            "99\n",
            "100\n"
          ]
        }
      ]
    },
    {
      "cell_type": "code",
      "source": [
        "# 13. Write a Python program to find the sum of all even numbers between 1 and 50\n",
        "\n",
        "sum = 0\n",
        "for i in range(2,50,2):   #since it says between 1 and 50 we arent considering 50 here\n",
        "  sum = sum + i\n",
        "print(f\"The sum of all even numbers between 1 and 50 is : {sum}\")\n"
      ],
      "metadata": {
        "id": "cWrMvD5vsTMa",
        "colab": {
          "base_uri": "https://localhost:8080/"
        },
        "outputId": "fe51a7c4-0c96-49b7-f84b-42628f4f51fd"
      },
      "execution_count": null,
      "outputs": [
        {
          "output_type": "stream",
          "name": "stdout",
          "text": [
            "The sum of all even numbers between 1 and 50 is : 600\n"
          ]
        }
      ]
    },
    {
      "cell_type": "code",
      "source": [
        "# 14. Write a program to reverse a string using a while loop\n",
        "string = input(\"Enter a string : \")\n",
        "n = len(string) -1\n",
        "while(n>=0):\n",
        "  print(string[n],end=\"\")\n",
        "  n -= 1"
      ],
      "metadata": {
        "id": "XHaHPkL-sSvX",
        "colab": {
          "base_uri": "https://localhost:8080/"
        },
        "outputId": "f378f031-5fdf-4794-a277-51d25204c4c7"
      },
      "execution_count": null,
      "outputs": [
        {
          "output_type": "stream",
          "name": "stdout",
          "text": [
            "Enter a string : Hare Krishna \n",
            " anhsirK eraH"
          ]
        }
      ]
    },
    {
      "cell_type": "code",
      "source": [
        "# 15. Write a Python program to calculate the factorial of a number provided by the user using a while loop.\n",
        "\n",
        "n = int(input(\"Enter the number : \"))\n",
        "fact = 1\n",
        "while(n>0):\n",
        "  fact = fact*n\n",
        "  n -= 1\n",
        "print(f\"The factorial of the given number is : {fact}\")"
      ],
      "metadata": {
        "id": "0J_tyswzsSeg",
        "colab": {
          "base_uri": "https://localhost:8080/"
        },
        "outputId": "acf45a9b-1229-4458-c7fa-84f324a75771"
      },
      "execution_count": null,
      "outputs": [
        {
          "output_type": "stream",
          "name": "stdout",
          "text": [
            "Enter the number : 5\n",
            "The factorial of the given number is : 120\n"
          ]
        }
      ]
    }
  ]
}